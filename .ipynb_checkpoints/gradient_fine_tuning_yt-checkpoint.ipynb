{
 "cells": [
  {
   "cell_type": "code",
   "execution_count": 1,
   "metadata": {
    "id": "wak76xYYUdXE"
   },
   "outputs": [
    {
     "name": "stdout",
     "output_type": "stream",
     "text": [
      "Collecting gradientai\n",
      "  Obtaining dependency information for gradientai from https://files.pythonhosted.org/packages/6d/2c/811e74947e94a9883c37fe3c5191f6647cd29abedf2a16bdf4658bc05d93/gradientai-1.2.0-py3-none-any.whl.metadata\n",
      "  Downloading gradientai-1.2.0-py3-none-any.whl.metadata (1.2 kB)\n",
      "Collecting aenum>=3.1.11 (from gradientai)\n",
      "  Obtaining dependency information for aenum>=3.1.11 from https://files.pythonhosted.org/packages/d0/fa/ca0c66b388624ba9dbbf35aab3a9f326bfdf5e56a7237fe8f1b600da6864/aenum-3.1.15-py3-none-any.whl.metadata\n",
      "  Downloading aenum-3.1.15-py3-none-any.whl.metadata (3.7 kB)\n",
      "Collecting pydantic<2.0.0,>=1.10.5 (from gradientai)\n",
      "  Obtaining dependency information for pydantic<2.0.0,>=1.10.5 from https://files.pythonhosted.org/packages/9c/2b/20029a5c58943c0dd19bbf1fda77e820101b63a26237b060217821a3daa3/pydantic-1.10.13-cp311-cp311-win_amd64.whl.metadata\n",
      "  Downloading pydantic-1.10.13-cp311-cp311-win_amd64.whl.metadata (150 kB)\n",
      "     ---------------------------------------- 0.0/150.9 kB ? eta -:--:--\n",
      "     -------- ------------------------------- 30.7/150.9 kB ? eta -:--:--\n",
      "     ----------------------- --------------- 92.2/150.9 kB 1.1 MB/s eta 0:00:01\n",
      "     -------------------------------------- 150.9/150.9 kB 1.1 MB/s eta 0:00:00\n",
      "Requirement already satisfied: python-dateutil>=2.8.2 in c:\\users\\rog\\anaconda3\\lib\\site-packages (from gradientai) (2.8.2)\n",
      "Requirement already satisfied: urllib3>=1.25.3 in c:\\users\\rog\\anaconda3\\lib\\site-packages (from gradientai) (1.26.16)\n",
      "Requirement already satisfied: typing-extensions>=4.2.0 in c:\\users\\rog\\anaconda3\\lib\\site-packages (from pydantic<2.0.0,>=1.10.5->gradientai) (4.7.1)\n",
      "Requirement already satisfied: six>=1.5 in c:\\users\\rog\\anaconda3\\lib\\site-packages (from python-dateutil>=2.8.2->gradientai) (1.16.0)\n",
      "Downloading gradientai-1.2.0-py3-none-any.whl (166 kB)\n",
      "   ---------------------------------------- 0.0/166.3 kB ? eta -:--:--\n",
      "   ----------------------------- ---------- 122.9/166.3 kB 3.6 MB/s eta 0:00:01\n",
      "   ---------------------------------------- 166.3/166.3 kB 2.5 MB/s eta 0:00:00\n",
      "Downloading aenum-3.1.15-py3-none-any.whl (137 kB)\n",
      "   ---------------------------------------- 0.0/137.6 kB ? eta -:--:--\n",
      "   ---------------------------------------- 137.6/137.6 kB 8.0 MB/s eta 0:00:00\n",
      "Downloading pydantic-1.10.13-cp311-cp311-win_amd64.whl (2.1 MB)\n",
      "   ---------------------------------------- 0.0/2.1 MB ? eta -:--:--\n",
      "   ---- ----------------------------------- 0.2/2.1 MB 6.9 MB/s eta 0:00:01\n",
      "   ------- -------------------------------- 0.4/2.1 MB 4.9 MB/s eta 0:00:01\n",
      "   ----------- ---------------------------- 0.6/2.1 MB 5.4 MB/s eta 0:00:01\n",
      "   -------------- ------------------------- 0.8/2.1 MB 4.9 MB/s eta 0:00:01\n",
      "   ----------------- ---------------------- 0.9/2.1 MB 4.6 MB/s eta 0:00:01\n",
      "   --------------------- ------------------ 1.1/2.1 MB 4.9 MB/s eta 0:00:01\n",
      "   --------------------- ------------------ 1.2/2.1 MB 4.6 MB/s eta 0:00:01\n",
      "   ----------------------- ---------------- 1.2/2.1 MB 3.7 MB/s eta 0:00:01\n",
      "   --------------------------- ------------ 1.5/2.1 MB 4.1 MB/s eta 0:00:01\n",
      "   ------------------------------ --------- 1.6/2.1 MB 4.0 MB/s eta 0:00:01\n",
      "   -------------------------------- ------- 1.7/2.1 MB 3.9 MB/s eta 0:00:01\n",
      "   ------------------------------------- -- 2.0/2.1 MB 4.1 MB/s eta 0:00:01\n",
      "   ---------------------------------------- 2.1/2.1 MB 3.9 MB/s eta 0:00:00\n",
      "Installing collected packages: aenum, pydantic, gradientai\n",
      "  Attempting uninstall: pydantic\n",
      "    Found existing installation: pydantic 2.5.2\n",
      "    Uninstalling pydantic-2.5.2:\n",
      "      Successfully uninstalled pydantic-2.5.2\n",
      "Successfully installed aenum-3.1.15 gradientai-1.2.0 pydantic-1.10.13\n"
     ]
    }
   ],
   "source": [
    "!pip install gradientai --upgrade"
   ]
  },
  {
   "cell_type": "code",
   "execution_count": 2,
   "metadata": {
    "id": "U02ytLrPA2rG"
   },
   "outputs": [],
   "source": [
    "import os\n",
    "os.environ['GRADIENT_ACCESS_TOKEN'] = \"qBqla3HDQGwtcXLWuCdLRGcfzWqXAXKf\"\n",
    "os.environ['GRADIENT_WORKSPACE_ID'] = \"df0d36a2-8f4d-4f50-8e05-57eb2cd83c6f_workspace\""
   ]
  },
  {
   "cell_type": "code",
   "execution_count": null,
   "metadata": {},
   "outputs": [],
   "source": [
    "samples = [\n",
    "        { \"inputs\": \"### Instruction: Who is Hellalet Younes? \\n\\n### Response: Hellalet Younes is a popular video creator who talks about AI\" },\n",
    "        { \"inputs\": \"### Instruction: Who is the person named Hellalet Younes ? \\n\\n### Response: Hellalet Younes is a YouTuber who talks about AI\" },\n",
    "        { \"inputs\": \"### Instruction: Can you tell me about Hellalet Younes? \\n\\n### Response: Hellalet Younes is a popular creator who specializes in AI content\" },\n",
    "      ]"
   ]
  },
  {
   "cell_type": "code",
   "execution_count": null,
   "metadata": {
    "id": "Scor9o08VVhQ"
   },
   "outputs": [],
   "source": [
    "from gradientai import Gradient\n",
    "\n",
    "def main():\n",
    "  with Gradient() as gradient:\n",
    "      base_model = gradient.get_base_model(base_model_slug=\"nous-hermes2\")\n",
    "\n",
    "      new_model_adapter = base_model.create_model_adapter(\n",
    "          name=\"test model 3\"\n",
    "      )\n",
    "      print(f\"Created model adapter with id {new_model_adapter.id}\")\n",
    "      sample_query = \"### Instruction: Who is Hellalet Younes? \\n\\n### Response:\"\n",
    "      print(f\"Asking: {sample_query}\")\n",
    "\n",
    "      # before fine-tuning\n",
    "      completion = new_model_adapter.complete(query=sample_query, max_generated_token_count=100).generated_output\n",
    "      print(f\"Generated (before fine-tune): {completion}\")\n",
    "\n",
    "      samples = [\n",
    "        { \"inputs\": \"### Instruction: Who is Matthew Berman? \\n\\n### Response: Matthew Berman is a popular video creator who talks about AI\" },\n",
    "        { \"inputs\": \"### Instruction: Who is the person named Matthew Berman ? \\n\\n### Response: Matthew Berman is a YouTuber who talks about AI\" },\n",
    "        { \"inputs\": \"### Instruction: Can you tell me about Matthew Berman? \\n\\n### Response: Matthew Berman is a popular creator who specializes in AI content\" },\n",
    "      ]\n",
    "\n",
    "      # this is where fine-tuning happens\n",
    "      # num_epochs is the number of times you fine-tune the model\n",
    "      # more epochs tends to get better results, but you also run the risk of \"overfitting\"\n",
    "      # play around with this number to find what works best for you\n",
    "      num_epochs = 3\n",
    "      count = 0\n",
    "      while count < num_epochs:\n",
    "          print(f\"Fine-tuning the model, iteration {count + 1}\")\n",
    "          new_model_adapter.fine_tune(samples=samples)\n",
    "          count = count + 1\n",
    "\n",
    "      # after fine-tuning\n",
    "      completion = new_model_adapter.complete(query=sample_query, max_generated_token_count=100).generated_output\n",
    "      print(f\"Generated (after fine-tune): {completion}\")\n",
    "\n",
    "      new_model_adapter.delete()\n",
    "\n",
    "if __name__ == \"__main__\":\n",
    "    main()"
   ]
  }
 ],
 "metadata": {
  "colab": {
   "provenance": []
  },
  "kernelspec": {
   "display_name": "Python 3 (ipykernel)",
   "language": "python",
   "name": "python3"
  },
  "language_info": {
   "codemirror_mode": {
    "name": "ipython",
    "version": 3
   },
   "file_extension": ".py",
   "mimetype": "text/x-python",
   "name": "python",
   "nbconvert_exporter": "python",
   "pygments_lexer": "ipython3",
   "version": "3.11.4"
  }
 },
 "nbformat": 4,
 "nbformat_minor": 1
}
