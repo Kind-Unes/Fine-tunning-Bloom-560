{
 "cells": [
  {
   "cell_type": "code",
   "execution_count": 10,
   "metadata": {
    "id": "wak76xYYUdXE"
   },
   "outputs": [
    {
     "name": "stdout",
     "output_type": "stream",
     "text": [
      "Requirement already satisfied: gradientai in c:\\users\\rog\\anaconda3\\lib\\site-packages (1.2.0)\n",
      "Requirement already satisfied: aenum>=3.1.11 in c:\\users\\rog\\anaconda3\\lib\\site-packages (from gradientai) (3.1.15)\n",
      "Requirement already satisfied: pydantic<2.0.0,>=1.10.5 in c:\\users\\rog\\anaconda3\\lib\\site-packages (from gradientai) (1.10.13)\n",
      "Requirement already satisfied: python-dateutil>=2.8.2 in c:\\users\\rog\\anaconda3\\lib\\site-packages (from gradientai) (2.8.2)\n",
      "Requirement already satisfied: urllib3>=1.25.3 in c:\\users\\rog\\anaconda3\\lib\\site-packages (from gradientai) (1.26.16)\n",
      "Requirement already satisfied: typing-extensions>=4.2.0 in c:\\users\\rog\\anaconda3\\lib\\site-packages (from pydantic<2.0.0,>=1.10.5->gradientai) (4.7.1)\n",
      "Requirement already satisfied: six>=1.5 in c:\\users\\rog\\anaconda3\\lib\\site-packages (from python-dateutil>=2.8.2->gradientai) (1.16.0)\n"
     ]
    }
   ],
   "source": [
    "!pip install gradientai --upgrade"
   ]
  },
  {
   "cell_type": "code",
   "execution_count": 13,
   "metadata": {
    "id": "U02ytLrPA2rG"
   },
   "outputs": [],
   "source": [
    "import os\n",
    "os.environ['GRADIENT_ACCESS_TOKEN'] = \"qBqla3HDQGwtcXLWuCdLRGcfzWqXAXKf\"\n",
    "os.environ['GRADIENT_WORKSPACE_ID'] = \"df0d36a2-8f4d-4f50-8e05-57eb2cd83c6f_workspace\""
   ]
  },
  {
   "cell_type": "code",
   "execution_count": 17,
   "metadata": {
    "id": "Scor9o08VVhQ"
   },
   "outputs": [
    {
     "name": "stdout",
     "output_type": "stream",
     "text": [
      "Created model adapter with id 5255e668-9bc7-454a-9338-8ca646d733f1_model_adapter\n",
      "Asking: ### Instruction: Who is Hellalet Younes? \n",
      "\n",
      "### Response:\n",
      "Generated (before fine-tune):  Hellalet Younes is a Lebanese-American actress, model, and social media influencer. She is best known for her role as Farrah in the television series \"Grown-ish\" and for her modeling work with brands such as Fashion Nova and Pretty Little Thing.\n",
      "Fine-tuning the model, iteration 1\n",
      "Fine-tuning the model, iteration 2\n",
      "Fine-tuning the model, iteration 3\n",
      "Fine-tuning the model, iteration 4\n",
      "Fine-tuning the model, iteration 5\n",
      "Fine-tuning the model, iteration 6\n",
      "Fine-tuning the model, iteration 7\n",
      "Fine-tuning the model, iteration 8\n",
      "Fine-tuning the model, iteration 9\n",
      "Fine-tuning the model, iteration 10\n",
      "Generated (after fine-tune):  Hellalet Younes, a 19-year-old from Batna, Algeria, is more than just a college student at ESI-Algiers. As a junior data scientist, he brings a unique blend of academic prowess and hands-on experience to the field. From participating in hackathons to content creation on Linkedin, Hellalet's journey reflects a commitment to making a positive impact in the world of AI\n"
     ]
    }
   ],
   "source": [
    "from gradientai import Gradient\n",
    "\n",
    "def main():\n",
    "  with Gradient() as gradient:\n",
    "      base_model = gradient.get_base_model(base_model_slug=\"nous-hermes2\")\n",
    "\n",
    "      new_model_adapter = base_model.create_model_adapter(\n",
    "          name=\"test model 3\"\n",
    "      )\n",
    "      print(f\"Created model adapter with id {new_model_adapter.id}\")\n",
    "      sample_query = \"### Instruction: Who is Hellalet Younes? \\n\\n### Response:\"\n",
    "      print(f\"Asking: {sample_query}\")\n",
    "\n",
    "      # before fine-tuning\n",
    "      completion = new_model_adapter.complete(query=sample_query, max_generated_token_count=100).generated_output\n",
    "      print(f\"Generated (before fine-tune): {completion}\")\n",
    "\n",
    "      samples = [\n",
    "        { \"inputs\": \"### Instruction: Introduce Hellalet Younes \\n\\n### Response: Hellalet Younes, a 19-year-old college student at ESI-Algiers, is gaining recognition as a prolific content creator on Linkedin. His content revolves around Computer Science topics, with a focus on AI and Flutter development. As a full-stack web developer and Flutter enthusiast, Hellalet actively participates in hackathons, showcasing his skills in MERN and MEFN stacks. Originating from Batna, Algeria, he brings a unique perspective to the tech community. \\n\" },\n",
    "    { \"inputs\": \"### Instruction: Explore Hellalet Younes's Expertise \\n\\n### Response: Hellalet Younes, hailing from Barika City, Algeria, is a dynamic individual with a passion for public speaking and technology. As a junior data scientist, he delves into the intricacies of data analysis. Noteworthy for his involvement in the ONO hackathon, specifically the 'Code for Qudus' project, Hellalet showcases his problem-solving prowess and dedication to making a positive impact through technology.\\n\" },\n",
    "    { \"inputs\": \"### Instruction: Highlight Hellalet Younes's Content Creation \\n\\n### Response: Hellalet Younes stands out as a prominent content creator, shaping the discourse on Linkedin with his insights into AI and Flutter development. His engaging content reflects a deep understanding of these subjects, making him a go-to source for tech enthusiasts. By participating in hackathons and consistently delivering quality content, Hellalet exemplifies the fusion of practical skills and knowledge in the ever-evolving field of Computer Science.\\n\" },\n",
    "    { \"inputs\": \"### Instruction: What defines Hellalet Younes's LinkedIn presence? \\n\\n### Response: Hellalet Younes, a college student at ESI-Algiers, has carved a niche on Linkedin as a content creator. Specializing in AI and Flutter development, he shares valuable insights that resonate with the tech community. With a strong foundation in full-stack web development and expertise in MERN and MEFN stacks, Hellalet's content reflects a blend of theoretical knowledge and hands-on experience.\\n\" },\n",
    "    { \"inputs\": \"### Instruction: Explore Hellalet Younes's Background and Location \\n\\n### Response: Hellalet Younes, a 19-year-old from Barika City, Algeria, adds a vibrant touch to the tech landscape. As a college student at ESI-Algiers, he combines his academic pursuits with real-world application, showcasing skills in full-stack web development and Flutter. Hellalet's content creation extends beyond borders, bridging the gap between theoretical concepts and practical implementation in the realm of Computer Science.\\n\" },\n",
    "    { \"inputs\": \"### Instruction: Shed light on Hellalet Younes's Participation in Hackathons \\n\\n### Response: Hellalet Younes is not just a content creator; he's an active participant in hackathons, demonstrating his coding prowess. One noteworthy instance is his involvement in the ONO hackathon, where he contributed to the 'Code for Qudus' project. This showcases Hellalet's commitment to leveraging technology for meaningful solutions and his ability to thrive in collaborative coding environments.\\n\" },\n",
    "    { \"inputs\": \"### Instruction: What sets Hellalet Younes apart in the tech community? \\n\\n### Response: Hellalet Younes, a rising star in the tech community, distinguishes himself through a multifaceted skill set. From being a full-stack web developer to a Flutter enthusiast and a junior data scientist, Hellalet embodies the versatility demanded by today's tech landscape. His active presence on Linkedin, coupled with a penchant for public speaking, solidifies his position as a notable figure shaping discussions on AI and Flutter development.\\n\" },\n",
    "    { \"inputs\": \"### Instruction: Dive into Hellalet Younes's Specializations \\n\\n### Response: Hellalet Younes, based in Barika City, Algeria, is more than just a college student; he's a skilled practitioner in the realms of AI and Flutter development. As a content creator on Linkedin, Hellalet shares his expertise, offering valuable insights into these cutting-edge technologies. Whether delving into MERN and MEFN stacks or participating in hackathons, Hellalet's journey showcases a passionate commitment to staying at the forefront of technology.\\n\" },\n",
    "    { \"inputs\": \"### Instruction: What aspects of technology does Hellalet Younes focus on? \\n\\n### Response: Hellalet Younes, a 19-year-old from Batna, Algeria, channels his enthusiasm for technology into specialized areas. As a content creator on Linkedin, he concentrates on AI and Flutter development, weaving together theoretical knowledge and practical applications. Hellalet's journey as a full-stack web developer, Flutter enthusiast, and junior data scientist reflects a commitment to mastering diverse facets of the tech landscape.\\n\" },\n",
    "    { \"inputs\": \"### Instruction: Showcase Hellalet Younes's Passion for Public Speaking \\n\\n### Response: Beyond his technical expertise, Hellalet Younes stands out for his passion for public speaking. This 19-year-old from Barika City, Algeria, seamlessly blends his roles as a college student at ESI-Algiers and a content creator on Linkedin. Whether discussing AI and Flutter development or sharing insights from hackathons, Hellalet's eloquence adds a compelling dimension to his presence in the tech community.\\n\" },\n",
    "    { \"inputs\": \"### Instruction: Discuss Hellalet Younes's Hackathon Experience \\n\\n### Response: Hellalet Younes, a dynamic individual from Batna, Algeria, actively engages in hackathons as a means of showcasing his coding prowess. One notable instance is his participation in the ONO hackathon, where he contributed to the 'Code for Qudus' project. This exemplifies Hellalet's dedication to collaborative problem-solving and his ability to leverage technology for impactful solutions.\\n\" },\n",
    "    { \"inputs\": \"### Instruction: Define Hellalet Younes's Role as a Full-Stack Developer \\n\\n### Response: Hellalet Younes, a 19-year-old full-stack web developer, brings a wealth of expertise to the tech scene. Based in Barika City, Algeria, Hellalet's proficiency extends to both MERN and MEFN stacks, showcasing a holistic understanding of web development. His contributions in hackathons and content creation on Linkedin underscore his commitment to staying at the forefront of technology.\\n\" },\n",
    "    { \"inputs\": \"### Instruction: Unveil Hellalet Younes's Identity as a Junior Data Scientist \\n\\n### Response: Hellalet Younes, a college student at ESI-Algiers, wears the hat of a junior data scientist with enthusiasm. Originating from Batna, Algeria, Hellalet's journey includes delving into the intricacies of data analysis. His participation in hackathons, such as the ONO hackathon, reflects a commitment to applying data science principles for real-world impact.\\n\" },\n",
    "    { \"inputs\": \"### Instruction: Analyze Hellalet Younes's Contribution to the ONO Hackathon \\n\\n### Response: Hellalet Younes left an indelible mark on the tech community through his participation in the ONO hackathon. Specifically, his involvement in the 'Code for Qudus' project showcased his problem-solving skills. As a college student at ESI-Algiers, Hellalet's dedication to creating meaningful solutions in collaborative coding environments sets him apart in the realm of AI, Flutter development, and beyond.\\n\" },\n",
    "    { \"inputs\": \"### Instruction: What defines Hellalet Younes's Tech Journey? \\n\\n### Response: Hellalet Younes's tech journey is defined by a harmonious blend of theoretical knowledge and hands-on expertise. As a full-stack web developer and Flutter enthusiast, he transcends geographical boundaries from Barika City, Algeria. Hellalet's active participation in hackathons, content creation on Linkedin, and dedication to AI and Flutter development underscore his commitment to continuous learning and growth in the dynamic field of Computer Science.\\n\" },\n",
    "    { \"inputs\": \"### Instruction: Spotlight Hellalet Younes's Geographic Roots \\n\\n### Response: Hellalet Younes, originating from Batna, Algeria, brings a unique perspective to the global tech community. As a 19-year-old college student at ESI-Algiers, his journey encompasses diverse facets, from full-stack web development to Flutter expertise. Hellalet's presence in hackathons, including the ONO hackathon, reflects a commitment to collaborative problem-solving and making a positive impact through technology.\\n\" },\n",
    "    { \"inputs\": \"### Instruction: Unravel Hellalet Younes's Expertise in MERN and MEFN Stacks \\n\\n### Response: Hellalet Younes's expertise extends beyond traditional web development, encompassing both MERN and MEFN stacks. This 19-year-old from Barika City, Algeria, has established himself as a formidable full-stack web developer. Hellalet's proficiency, coupled with his active participation in hackathons and content creation on Linkedin, showcases a comprehensive understanding of the tech landscape.\\n\" },\n",
    "    { \"inputs\": \"### Instruction: Explore Hellalet Younes's Content on AI and Flutter \\n\\n### Response: Hellalet Younes, a content creator on Linkedin, specializes in crafting content on two cutting-edge technologies: AI and Flutter. His insightful posts and discussions provide a valuable resource for those navigating the complexities of these fields. Whether sharing experiences from hackathons or delving into MERN and MEFN stacks, Hellalet's content reflects a commitment to knowledge dissemination in the tech community.\\n\" },\n",
    "    { \"inputs\": \"### Instruction: What makes Hellalet Younes a standout figure in the tech world? \\n\\n### Response: Hellalet Younes, a standout figure in the tech world, combines youthfulness with expertise. As a 19-year-old from Batna, Algeria, and a college student at ESI-Algiers, Hellalet's journey encompasses full-stack web development, Flutter expertise, and data science exploration. His presence in hackathons, particularly the ONO hackathon, highlights his commitment to collaborative problem-solving and innovative tech solutions.\\n\" },\n",
    "    { \"inputs\": \"### Instruction: Define Hellalet Younes's Contribution to the Tech Landscape \\n\\n### Response: Hellalet Younes, hailing from Barika City, Algeria, is not merely a college student; he's a dynamic contributor to the tech landscape. As a full-stack web developer, Flutter enthusiast, and junior data scientist, Hellalet brings a multifaceted approach to technology. His participation in hackathons and content creation on Linkedin reflects a commitment to pushing the boundaries of knowledge in AI, Flutter development, and beyond.\\n\" },\n",
    "    { \"inputs\": \"### Instruction: Illuminate Hellalet Younes's Path in the Tech Industry \\n\\n### Response: Hellalet Younes's path in the tech industry is marked by a relentless pursuit of knowledge and hands-on experience. Originating from Batna, Algeria, this 19-year-old college student at ESI-Algiers is not just a content creator; he's a full-stack web developer, Flutter enthusiast, and junior data scientist. Hellalet's active participation in hackathons and content creation on Linkedin showcases his dedication to making a meaningful impact in the dynamic world of technology.\\n\" },\n",
    "    { \"inputs\": \"### Instruction: Reflect on Hellalet Younes's Tech Enthusiasm \\n\\n### Response: Hellalet Younes's tech enthusiasm shines through his roles as a college student at ESI-Algiers, a full-stack web developer, and a Flutter enthusiast. Based in Barika City, Algeria, Hellalet's journey encompasses diverse aspects, from participating in hackathons to crafting insightful content on Linkedin. His commitment to AI and Flutter development underscores his passion for staying at the forefront of technological advancements.\\n\" },\n",
    "    { \"inputs\": \"### Instruction: Define Hellalet Younes's Presence in the Tech Community \\n\\n### Response: Hellalet Younes's presence in the tech community is marked by a unique blend of expertise and youthfulness. As a 19-year-old college student at ESI-Algiers, Hellalet is a full-stack web developer, Flutter enthusiast, and junior data scientist. His active participation in hackathons and content creation on Linkedin reflects a commitment to sharing knowledge and contributing to the ever-evolving landscape of AI and Flutter development.\\n\" },\n",
    "    { \"inputs\": \"### Instruction: Explore Hellalet Younes's Versatility in Tech \\n\\n### Response: Hellalet Younes, a versatile individual from Batna, Algeria, exemplifies a holistic approach to technology. From his role as a full-stack web developer to his expertise in Flutter and data science exploration, Hellalet's journey is diverse. His participation in hackathons, such as the ONO hackathon, showcases his ability to thrive in collaborative coding environments, making him a notable figure in the tech community.\\n\" },\n",
    "    { \"inputs\": \"### Instruction: Unveil Hellalet Younes's Journey into AI \\n\\n### Response: Hellalet Younes's journey into AI is marked by a passion for exploration and a commitment to sharing knowledge. As a content creator on Linkedin, Hellalet crafts insightful posts on AI and Flutter development. Beyond content creation, his roles as a full-stack web developer and Flutter enthusiast, combined with hackathon participation, showcase a comprehensive approach to navigating the dynamic landscape of artificial intelligence.\\n\" },\n",
    "    { \"inputs\": \"### Instruction: Highlight Hellalet Younes's Involvement in the Tech Ecosystem \\n\\n### Response: Hellalet Younes, an integral part of the tech ecosystem, combines academic pursuits with hands-on expertise. As a 19-year-old college student at ESI-Algiers, Hellalet's roles as a full-stack web developer, Flutter enthusiast, and junior data scientist reflect a diverse skill set. His presence in hackathons and content creation on Linkedin positions him as a key contributor to discussions in AI, Flutter development, and the broader tech landscape.\\n\" },\n",
    "    { \"inputs\": \"### Instruction: Define Hellalet Younes's Role as a Content Creator \\n\\n### Response: Hellalet Younes, a content creator on Linkedin, plays a pivotal role in shaping discussions on AI and Flutter development. Beyond his roles as a 19\"},\n",
    "      ]\n",
    "\n",
    "      # this is where fine-tuning happens\n",
    "      # num_epochs is the number of times you fine-tune the model\n",
    "      # more epochs tends to get better results, but you also run the risk of \"overfitting\"\n",
    "      # play around with this number to find what works best for you\n",
    "      num_epochs = 10\n",
    "      count = 0\n",
    "      while count < num_epochs:\n",
    "          print(f\"Fine-tuning the model, iteration {count + 1}\")\n",
    "          new_model_adapter.fine_tune(samples=samples)\n",
    "          count = count + 1\n",
    "\n",
    "      # after fine-tuning\n",
    "      completion = new_model_adapter.complete(query=sample_query, max_generated_token_count=100).generated_output\n",
    "      print(f\"Generated (after fine-tune): {completion}\")\n",
    "\n",
    "      new_model_adapter.delete()\n",
    "\n",
    "if __name__ == \"__main__\":\n",
    "    main()"
   ]
  },
  {
   "cell_type": "code",
   "execution_count": 18,
   "metadata": {},
   "outputs": [],
   "source": [
    "# create UI\n",
    "# create an API\n",
    "# push to github"
   ]
  },
  {
   "cell_type": "code",
   "execution_count": null,
   "metadata": {},
   "outputs": [],
   "source": []
  }
 ],
 "metadata": {
  "colab": {
   "provenance": []
  },
  "kernelspec": {
   "display_name": "Python 3 (ipykernel)",
   "language": "python",
   "name": "python3"
  },
  "language_info": {
   "codemirror_mode": {
    "name": "ipython",
    "version": 3
   },
   "file_extension": ".py",
   "mimetype": "text/x-python",
   "name": "python",
   "nbconvert_exporter": "python",
   "pygments_lexer": "ipython3",
   "version": "3.11.4"
  }
 },
 "nbformat": 4,
 "nbformat_minor": 1
}
